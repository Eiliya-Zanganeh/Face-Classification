{
 "cells": [
  {
   "cell_type": "code",
   "execution_count": 26,
   "id": "initial_id",
   "metadata": {
    "collapsed": true,
    "ExecuteTime": {
     "end_time": "2025-02-11T12:40:37.662700600Z",
     "start_time": "2025-02-11T12:40:37.642359100Z"
    }
   },
   "outputs": [],
   "source": [
    "import torch\n",
    "from torchvision import transforms\n",
    "from PIL import Image\n",
    "from torch import argmax\n",
    "\n",
    "from model import FaceModel"
   ]
  },
  {
   "cell_type": "code",
   "outputs": [],
   "source": [
    "device = torch.device(\"cuda\" if torch.cuda.is_available() else \"cpu\")\n",
    "model = FaceModel(14).to(device)\n",
    "model.load_state_dict(torch.load('model.pth'))\n",
    "\n",
    "transform = transforms.Compose([\n",
    "    transforms.Resize((224, 224)),\n",
    "    transforms.ColorJitter(brightness=0.2, contrast=0.2, saturation=0.2, hue=0.1),\n",
    "    transforms.ToTensor(),\n",
    "    transforms.Normalize((0.5, 0.5, 0.5), (0.5, 0.5, 0.5))\n",
    "])\n",
    "\n",
    "classes = {\n",
    "    'Ali_Khamenei': 0, 'Angelina_Jolie': 1, 'Barak_Obama': 2,\n",
    "    'Behnam_Bani': 3, 'Donald_Trump': 4, 'Emma_Watson': 5,\n",
    "    'Han_Hye_Jin': 6, 'Kim_Jong_Un': 7, 'Leyla_Hatami': 8,\n",
    "    'Lionel_Messi': 9, 'Michelle_Obama': 10, 'Morgan_Freeman': 11,\n",
    "    'Queen_Elizabeth': 12, 'Scarlett_Johansson': 13\n",
    "}"
   ],
   "metadata": {
    "collapsed": false,
    "ExecuteTime": {
     "end_time": "2025-02-11T12:40:39.714312100Z",
     "start_time": "2025-02-11T12:40:38.229295800Z"
    }
   },
   "id": "54b12349476e0a6e",
   "execution_count": 27
  },
  {
   "cell_type": "code",
   "outputs": [],
   "source": [
    "def predict(image_path):\n",
    "    image = Image.open(image_path)\n",
    "    image = transform(image)\n",
    "    image = image.unsqueeze(0)\n",
    "    image = image.to(device)\n",
    "    outputs = model(image)\n",
    "    predict = argmax(outputs)\n",
    "    return [k for k, v in classes.items() if v == predict.item()][0]"
   ],
   "metadata": {
    "collapsed": false,
    "ExecuteTime": {
     "end_time": "2025-02-11T12:41:02.649129300Z",
     "start_time": "2025-02-11T12:41:02.639221100Z"
    }
   },
   "id": "46d7f0f16718b5fc",
   "execution_count": 31
  },
  {
   "cell_type": "code",
   "outputs": [
    {
     "data": {
      "text/plain": "'Behnam_Bani'"
     },
     "execution_count": 36,
     "metadata": {},
     "output_type": "execute_result"
    }
   ],
   "source": [
    "predict('dataset/Behnam_Bani/Behnam-Bani-11_01.jpg')"
   ],
   "metadata": {
    "collapsed": false,
    "ExecuteTime": {
     "end_time": "2025-02-11T12:41:14.269574200Z",
     "start_time": "2025-02-11T12:41:14.159567300Z"
    }
   },
   "id": "b0f0fc28d26d249b",
   "execution_count": 36
  },
  {
   "cell_type": "code",
   "outputs": [
    {
     "data": {
      "text/plain": "'Han_Hye_Jin'"
     },
     "execution_count": 37,
     "metadata": {},
     "output_type": "execute_result"
    }
   ],
   "source": [
    "predict('dataset/Han_Hye_Jin/Han-Hye-Jin-08_01.jpg')"
   ],
   "metadata": {
    "collapsed": false,
    "ExecuteTime": {
     "end_time": "2025-02-11T12:41:53.888293900Z",
     "start_time": "2025-02-11T12:41:53.764269100Z"
    }
   },
   "id": "d72c9ff91a165c1f",
   "execution_count": 37
  },
  {
   "cell_type": "code",
   "outputs": [
    {
     "data": {
      "text/plain": "'Scarlett_Johansson'"
     },
     "execution_count": 41,
     "metadata": {},
     "output_type": "execute_result"
    }
   ],
   "source": [
    "predict('dataset/Michelle_Obama/Michelle-Obama-10_01.jpg')"
   ],
   "metadata": {
    "collapsed": false,
    "ExecuteTime": {
     "end_time": "2025-02-11T12:42:28.894045700Z",
     "start_time": "2025-02-11T12:42:28.769551800Z"
    }
   },
   "id": "33a67cc1e26a4b7f",
   "execution_count": 41
  }
 ],
 "metadata": {
  "kernelspec": {
   "display_name": "Python 3",
   "language": "python",
   "name": "python3"
  },
  "language_info": {
   "codemirror_mode": {
    "name": "ipython",
    "version": 2
   },
   "file_extension": ".py",
   "mimetype": "text/x-python",
   "name": "python",
   "nbconvert_exporter": "python",
   "pygments_lexer": "ipython2",
   "version": "2.7.6"
  }
 },
 "nbformat": 4,
 "nbformat_minor": 5
}
